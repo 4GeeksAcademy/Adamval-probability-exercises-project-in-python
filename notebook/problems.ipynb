{
 "cells": [
  {
   "cell_type": "markdown",
   "id": "a41f3622",
   "metadata": {},
   "source": [
    "# Probability exercises"
   ]
  },
  {
   "cell_type": "markdown",
   "id": "a6bdbd89",
   "metadata": {},
   "source": [
    "## Exercise 1 \n",
    "\n",
    "Two dices are thrown once and the total score is observed. Use a simulation to find the estimated probability that the total score is even or greater than 7.  A simulation is a repetition of the same experiment multiple times to observe its behavior:\n",
    "\n",
    "- Run the experiment 1000 times (roll 2 dice 1000 times, and sum the number of both dices).\n",
    "- Keep track of the number of times that the sum was either greater than 7 or an even number.\n",
    "- Divide the number from step 2 by the number of iterations (1000)."
   ]
  },
  {
   "cell_type": "code",
   "execution_count": 16,
   "id": "8939d892",
   "metadata": {},
   "outputs": [
    {
     "name": "stdout",
     "output_type": "stream",
     "text": [
      "69.63% is the percentage of time that the score is above 7 and or is an even number after rolling the dice\n",
      "1000 times\n"
     ]
    }
   ],
   "source": [
    "import random\n",
    "import numpy as np\n",
    "\n",
    "# defining the function of how many times Fred rolls the dice and placing zero as variable\n",
    "# will help count how many times the dice will result in an even number or the sum is above 7\n",
    "def egg_roll_rice(n_simulations = 1001):\n",
    "    count = 0\n",
    "    \n",
    "    # variable 'i' will be assigned the value from 0 to 1000\n",
    "    for i in range(n_simulations):\n",
    "        \n",
    "        # range from 1 to 6 because each die has 6 sides\n",
    "        die1 = random.randint(1, 6)\n",
    "        die2 = random.randint(1, 6)\n",
    "        \n",
    "        # the total value after each roll attempt from both dice\n",
    "        sum = die1 + die2\n",
    "        \n",
    "        # If statement to see if the sum is above 7 or if after you divide by 2 and their is a 0 remainder,\n",
    "        # then it is considered an even number, if both statements are true then it is added to 'count'.\n",
    "        if (sum % 2 == 0) or (sum > 7):\n",
    "            count = count + 1\n",
    "\n",
    "    # number of times the above conditions are met divided by the number of dice rolls attempted \n",
    "    return count / n_simulations\n",
    "#\n",
    "print(f\"{np.round(egg_roll_rice() * 100, 2)}% is the percentage of time that the score is above 7 and or is an even number after rolling the dice\")\n",
    "print(f'1000 times')"
   ]
  },
  {
   "cell_type": "markdown",
   "id": "55732bca",
   "metadata": {},
   "source": [
    "## Exercise 2\n",
    "\n",
    "A box contains 10 white balls, 20 red balls and 30 green balls. If we take 5 balls from the box with replacement (we take the ball, observe what color it is and put it back into the box). We want to know the probability of:\n",
    "\n",
    "1. Take 3 white and 2 red.\n",
    "2. Take all of the same color.\n",
    "\n",
    "Run the experiment 1000 times and calculate the above probabilities."
   ]
  },
  {
   "cell_type": "code",
   "execution_count": 25,
   "id": "23244d20",
   "metadata": {},
   "outputs": [
    {
     "name": "stdout",
     "output_type": "stream",
     "text": [
      "{0: 'White', 1: 'White', 2: 'White', 3: 'White', 4: 'White', 5: 'White', 6: 'White', 7: 'White', 8: 'White', 9: 'White', 10: 'White', 11: 'Red', 12: 'Red', 13: 'Red', 14: 'Red', 15: 'Red', 16: 'Red', 17: 'Red', 18: 'Red', 19: 'Red', 20: 'Red', 21: 'Red', 22: 'Red', 23: 'Red', 24: 'Red', 25: 'Red', 26: 'Red', 27: 'Red', 28: 'Red', 29: 'Red', 30: 'Red', 31: 'Green', 32: 'Green', 33: 'Green', 34: 'Green', 35: 'Green', 36: 'Green', 37: 'Green', 38: 'Green', 39: 'Green', 40: 'Green', 41: 'Green', 42: 'Green', 43: 'Green', 44: 'Green', 45: 'Green', 46: 'Green', 47: 'Green', 48: 'Green', 49: 'Green', 50: 'Green', 51: 'Green', 52: 'Green', 53: 'Green', 54: 'Green', 55: 'Green', 56: 'Green', 57: 'Green', 58: 'Green', 59: 'Green', 60: 'Green'}\n"
     ]
    }
   ],
   "source": [
    "# creating a dictionary that store value\n",
    "box_of_balls = {}\n",
    "\n",
    "# there are 60 balls in the box\n",
    "for i in range(61):\n",
    "# only 10 balls are white    \n",
    "    if i < 11:\n",
    "        box_of_balls[i] = \"White\"\n",
    "#ball 10 to 30 are red, there are 20 red balls \n",
    "    elif (i > 10) and (i < 31):\n",
    "        box_of_balls[i] = \"Red\"\n",
    "#total number in range is 60, there are 30 green balls left\n",
    "    else:\n",
    "        box_of_balls[i] = \"Green\"\n",
    "print(box_of_balls)"
   ]
  },
  {
   "cell_type": "code",
   "execution_count": 40,
   "id": "d07f2eaa",
   "metadata": {},
   "outputs": [
    {
     "name": "stdout",
     "output_type": "stream",
     "text": [
      "0.7% Is the percentage of time that you will be able to retrieve 3 white and 2 red in one experiment\n",
      "therefore it is very unlikely,\n",
      "3.3% is the percentage of time that you will be able to retrieve a result where all the balls\n",
      "are of the same color, which is unlikely as well.\n"
     ]
    }
   ],
   "source": [
    "# count 1 and 2 represent white and red because ball number 31 to 60 is green \n",
    "def take_balls(n_simulations = 1000):\n",
    "    count_1 = 0\n",
    "    count_2 = 0\n",
    "# represents each experiment number which is 1000 \n",
    "    for i in range(n_simulations):\n",
    "# new color list every experiment attempt\n",
    "        colors = []\n",
    "\n",
    "# 5 is the number of balls retrieved, each ball color is assigned to the list\n",
    "# and random ball is removed from the box range from ball 1-60\n",
    "        for i in range(5):\n",
    "            colors.append(box_of_balls[np.random.randint(0, 61)])\n",
    "\n",
    "# np.array is important so we can count how many white green or red ball per experiment \n",
    "        colors = np.array(colors)\n",
    "\n",
    "#actual counting of how many white red or green ball in one experiment\n",
    "        white_balls = sum(colors == \"White\")\n",
    "        red_balls = sum(colors == \"Red\")\n",
    "        green_balls = sum(colors == \"Green\")\n",
    "\n",
    "# set the first criteria per experiment \n",
    "        if (white_balls == 3) and (red_balls == 2):\n",
    "            count_1 += 1\n",
    "# second criteria per experiment\n",
    "        if (white_balls == 5) or (red_balls == 5) or (green_balls == 5):\n",
    "            count_2 += 1\n",
    "\n",
    "#determine how many times criteria 1 or 2 happen out of 1000 attempts \n",
    "    return count_1 / n_simulations, count_2 / n_simulations\n",
    "\n",
    "#the result of 1000 attempts is stored in the variable probabilities\n",
    "probabilities = take_balls(1000)\n",
    "\n",
    "# first criteria from the return function probabilities[0] np. round is only used for a cleaner result and *100 to convert percentage\n",
    "print(f\"{np.round(probabilities[0] * 100, 2)}% Is the percentage of time that you will be able to retrieve 3 white and 2 red in one experiment\")\n",
    "print(f'therefore it is very unlikely,')\n",
    "# second criteria \n",
    "print(f\"{np.round(probabilities[1] * 100, 2)}% is the percentage of time that you will be able to retrieve a result where all the balls\")\n",
    "print(f'are of the same color, which is unlikely as well.')"
   ]
  },
  {
   "cell_type": "code",
   "execution_count": null,
   "id": "a1b29882",
   "metadata": {},
   "outputs": [],
   "source": []
  }
 ],
 "metadata": {
  "kernelspec": {
   "display_name": "Python 3",
   "language": "python",
   "name": "python3"
  },
  "language_info": {
   "codemirror_mode": {
    "name": "ipython",
    "version": 3
   },
   "file_extension": ".py",
   "mimetype": "text/x-python",
   "name": "python",
   "nbconvert_exporter": "python",
   "pygments_lexer": "ipython3",
   "version": "3.11.4"
  }
 },
 "nbformat": 4,
 "nbformat_minor": 5
}
